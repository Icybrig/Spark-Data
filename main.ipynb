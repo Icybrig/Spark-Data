{
 "cells": [
  {
   "cell_type": "markdown",
   "metadata": {},
   "source": [
    "## AUTHORS : BEN MADANI YAZID, LIYANG FAANG, MOHAMMED SAMEER"
   ]
  },
  {
   "cell_type": "code",
   "execution_count": 2,
   "metadata": {},
   "outputs": [],
   "source": [
    "# Importing required functions using %run\n",
    "%run src/data_cleaning.py\n",
    "%run src/trip_analysis.py\n",
    "%run src/tip_analysis.py\n",
    "%run src/fare_analysis.py\n",
    "%run src/traffic_analysis.py\n",
    "%run src/demand_prediction.py"
   ]
  },
  {
   "cell_type": "code",
   "execution_count": 3,
   "metadata": {},
   "outputs": [],
   "source": [
    "import os\n",
    "import pandas as pd\n",
    "import matplotlib.pyplot as plt\n",
    "import seaborn as sns\n",
    "from pyspark.sql import SparkSession\n",
    "from pyspark.sql import functions as F\n",
    "from pyspark.sql.window import Window\n",
    "from pyspark.ml.feature import VectorAssembler\n",
    "from pyspark.ml.regression import LinearRegression\n"
   ]
  },
  {
   "cell_type": "code",
   "execution_count": 4,
   "metadata": {},
   "outputs": [
    {
     "name": "stdout",
     "output_type": "stream",
     "text": [
      "Environment variables set successfully\n"
     ]
    }
   ],
   "source": [
    "# Function to set environment variables\n",
    "def set_environment_variables():\n",
    "    os.environ['JAVA_HOME'] = r'C:\\Program Files\\Java\\jdk-11'\n",
    "    os.environ['SPARK_HOME'] = r'C:\\spark'\n",
    "    os.environ['PYSPARK_PYTHON'] = r'C:\\Users\\yazid\\.conda\\envs\\spark_project\\python.exe'\n",
    "    os.environ['PYSPARK_DRIVER_PYTHON'] = r'C:\\Users\\yazid\\.conda\\envs\\spark_project\\python.exe'\n",
    "    print(\"Environment variables set successfully\")\n",
    "\n",
    "# Function to delete environment variables\n",
    "def delete_environment_variables():\n",
    "    os.environ.pop('JAVA_HOME', None)\n",
    "    os.environ.pop('SPARK_HOME', None)\n",
    "    os.environ.pop('PYSPARK_PYTHON', None)\n",
    "    os.environ.pop('PYSPARK_DRIVER_PYTHON', None)\n",
    "    print(\"Environment variables deleted successfully\")\n",
    "\n",
    "# Set environment variables\n",
    "set_environment_variables()\n"
   ]
  },
  {
   "cell_type": "code",
   "execution_count": 5,
   "metadata": {},
   "outputs": [
    {
     "name": "stdout",
     "output_type": "stream",
     "text": [
      "Spark Session created successfully\n",
      "Reading C:\\Users\\yazid\\Desktop\\spark_assigment\\NYC\\1.parquet\n",
      "Reading C:\\Users\\yazid\\Desktop\\spark_assigment\\NYC\\10.parquet\n",
      "Reading C:\\Users\\yazid\\Desktop\\spark_assigment\\NYC\\11.parquet\n",
      "Reading C:\\Users\\yazid\\Desktop\\spark_assigment\\NYC\\12.parquet\n",
      "Reading C:\\Users\\yazid\\Desktop\\spark_assigment\\NYC\\2.parquet\n",
      "Reading C:\\Users\\yazid\\Desktop\\spark_assigment\\NYC\\3.parquet\n",
      "Reading C:\\Users\\yazid\\Desktop\\spark_assigment\\NYC\\4.parquet\n",
      "Reading C:\\Users\\yazid\\Desktop\\spark_assigment\\NYC\\5.parquet\n",
      "Reading C:\\Users\\yazid\\Desktop\\spark_assigment\\NYC\\6.parquet\n",
      "Reading C:\\Users\\yazid\\Desktop\\spark_assigment\\NYC\\7.parquet\n",
      "Reading C:\\Users\\yazid\\Desktop\\spark_assigment\\NYC\\8.parquet\n",
      "Reading C:\\Users\\yazid\\Desktop\\spark_assigment\\NYC\\9.parquet\n",
      "+--------+--------------------+---------------------+---------------+-------------+----------+------------------+------------+------------+------------+-----------+-----+-------+----------+------------+---------------------+------------+--------------------+-----------+\n",
      "|VendorID|tpep_pickup_datetime|tpep_dropoff_datetime|passenger_count|trip_distance|RatecodeID|store_and_fwd_flag|PULocationID|DOLocationID|payment_type|fare_amount|extra|mta_tax|tip_amount|tolls_amount|improvement_surcharge|total_amount|congestion_surcharge|airport_fee|\n",
      "+--------+--------------------+---------------------+---------------+-------------+----------+------------------+------------+------------+------------+-----------+-----+-------+----------+------------+---------------------+------------+--------------------+-----------+\n",
      "|       2| 2021-10-01 00:50:24|  2021-10-01 01:02:11|            1.0|         4.05|       1.0|                 N|          24|          50|           4|      -14.5| -0.5|   -0.5|       0.0|         0.0|                 -0.3|       -18.3|                -2.5|        0.0|\n",
      "|       2| 2021-10-01 00:45:44|  2021-10-01 00:50:14|            1.0|         1.45|       1.0|                 N|          48|          68|           1|        6.0|  0.5|    0.5|      2.45|         0.0|                  0.3|       12.25|                 2.5|        0.0|\n",
      "|       2| 2021-10-01 00:04:13|  2021-10-01 00:17:44|            1.0|         6.12|       1.0|                 N|         132|         124|           2|       19.0|  0.5|    0.5|       0.0|         0.0|                  0.3|        20.3|                 0.0|        0.0|\n",
      "|       2| 2021-10-01 00:08:29|  2021-10-01 00:11:54|            1.0|         1.33|       1.0|                 N|         162|         141|           2|        5.5|  0.5|    0.5|       0.0|         0.0|                  0.3|         9.3|                 2.5|        0.0|\n",
      "|       2| 2021-10-01 00:11:30|  2021-10-01 00:18:55|            4.0|         1.47|       1.0|                 N|          90|         249|           1|        7.0|  0.5|    0.5|      2.16|         0.0|                  0.3|       12.96|                 2.5|        0.0|\n",
      "+--------+--------------------+---------------------+---------------+-------------+----------+------------------+------------+------------+------------+-----------+-----+-------+----------+------------+---------------------+------------+--------------------+-----------+\n",
      "only showing top 5 rows\n",
      "\n",
      "root\n",
      " |-- VendorID: long (nullable = true)\n",
      " |-- tpep_pickup_datetime: timestamp_ntz (nullable = true)\n",
      " |-- tpep_dropoff_datetime: timestamp_ntz (nullable = true)\n",
      " |-- passenger_count: double (nullable = true)\n",
      " |-- trip_distance: double (nullable = true)\n",
      " |-- RatecodeID: double (nullable = true)\n",
      " |-- store_and_fwd_flag: string (nullable = true)\n",
      " |-- PULocationID: long (nullable = true)\n",
      " |-- DOLocationID: long (nullable = true)\n",
      " |-- payment_type: long (nullable = true)\n",
      " |-- fare_amount: double (nullable = true)\n",
      " |-- extra: double (nullable = true)\n",
      " |-- mta_tax: double (nullable = true)\n",
      " |-- tip_amount: double (nullable = true)\n",
      " |-- tolls_amount: double (nullable = true)\n",
      " |-- improvement_surcharge: double (nullable = true)\n",
      " |-- total_amount: double (nullable = true)\n",
      " |-- congestion_surcharge: double (nullable = true)\n",
      " |-- airport_fee: double (nullable = true)\n",
      "\n",
      "Total number of rows after removing duplicates: 30904308\n",
      "Error creating Spark Session: [PATH_ALREADY_EXISTS] Path file:/C:/Users/yazid/Desktop/spark_assigment/combined_nyc_taxi_2021.parquet already exists. Set mode as \"overwrite\" to overwrite the existing path.\n"
     ]
    }
   ],
   "source": [
    "# Initialize Spark session with increased memory settings\n",
    "try:\n",
    "    spark = SparkSession.builder \\\n",
    "        .appName('NYC_taxi_analysis') \\\n",
    "        .config(\"spark.driver.memory\", \"8g\") \\\n",
    "        .config(\"spark.executor.memory\", \"8g\") \\\n",
    "        .config(\"spark.memory.offHeap.enabled\", \"true\") \\\n",
    "        .config(\"spark.memory.offHeap.size\", \"8g\") \\\n",
    "        .getOrCreate()\n",
    "    print(\"Spark Session created successfully\")\n",
    "\n",
    "    folder_path = r'C:\\Users\\yazid\\Desktop\\spark_assigment\\NYC'\n",
    "    dataframes = []\n",
    "\n",
    "    for filename in os.listdir(folder_path):\n",
    "        if filename.endswith('.parquet'):\n",
    "            file_path = os.path.join(folder_path, filename)\n",
    "            print(f\"Reading {file_path}\")\n",
    "            try:\n",
    "                df = spark.read.parquet(file_path)\n",
    "                dataframes.append(df)\n",
    "            except Exception as e:\n",
    "                print(f\"Error reading {file_path}: {e}\")\n",
    "\n",
    "    if dataframes:\n",
    "        combined_df = dataframes[0]\n",
    "        for df in dataframes[1:]:\n",
    "            combined_df = combined_df.unionByName(df, allowMissingColumns=True)\n",
    "\n",
    "        combined_df = combined_df.dropDuplicates()\n",
    "        combined_df.show(5)\n",
    "        combined_df.printSchema()\n",
    "        print(f\"Total number of rows after removing duplicates: {combined_df.count()}\")\n",
    "\n",
    "        combined_df.write.parquet(r\"C:\\Users\\yazid\\Desktop\\spark_assigment\\combined_nyc_taxi_2021.parquet\")\n",
    "    else:\n",
    "        print(\"No Parquet files found.\")\n",
    "except Exception as e:\n",
    "    print(f\"Error creating Spark Session: {e}\")\n",
    "\n"
   ]
  },
  {
   "cell_type": "markdown",
   "metadata": {},
   "source": [
    "## Handling Missing values"
   ]
  },
  {
   "cell_type": "code",
   "execution_count": 6,
   "metadata": {},
   "outputs": [
    {
     "name": "stdout",
     "output_type": "stream",
     "text": [
      "-RECORD 0-------------------------------------\n",
      " VendorID              | 0.0                  \n",
      " tpep_pickup_datetime  | 0.0                  \n",
      " tpep_dropoff_datetime | 0.0                  \n",
      " passenger_count       | 0.047847536337005184 \n",
      " trip_distance         | 0.0                  \n",
      " RatecodeID            | 0.047847536337005184 \n",
      " store_and_fwd_flag    | 0.047847536337005184 \n",
      " PULocationID          | 0.0                  \n",
      " DOLocationID          | 0.0                  \n",
      " payment_type          | 0.0                  \n",
      " fare_amount           | 0.0                  \n",
      " extra                 | 0.0                  \n",
      " mta_tax               | 0.0                  \n",
      " tip_amount            | 0.0                  \n",
      " tolls_amount          | 0.0                  \n",
      " improvement_surcharge | 0.0                  \n",
      " total_amount          | 0.0                  \n",
      " congestion_surcharge  | 0.047847536337005184 \n",
      " airport_fee           | 0.18254471188935859  \n",
      "\n"
     ]
    }
   ],
   "source": [
    "# Handle missing values\n",
    "calculate_nan_percentage(combined_df)\n",
    "combined_df = handle_missing_values(combined_df)\n"
   ]
  },
  {
   "cell_type": "code",
   "execution_count": 7,
   "metadata": {},
   "outputs": [
    {
     "name": "stdout",
     "output_type": "stream",
     "text": [
      "+--------+--------------------+---------------------+---------------+-------------+----------+------------------+------------+------------+------------+-----------+-----+-------+----------+------------+---------------------+------------+--------------------+-----------+\n",
      "|VendorID|tpep_pickup_datetime|tpep_dropoff_datetime|passenger_count|trip_distance|RatecodeID|store_and_fwd_flag|PULocationID|DOLocationID|payment_type|fare_amount|extra|mta_tax|tip_amount|tolls_amount|improvement_surcharge|total_amount|congestion_surcharge|airport_fee|\n",
      "+--------+--------------------+---------------------+---------------+-------------+----------+------------------+------------+------------+------------+-----------+-----+-------+----------+------------+---------------------+------------+--------------------+-----------+\n",
      "|       2| 2021-10-01 00:50:24|  2021-10-01 01:02:11|            1.0|         4.05|       1.0|                 N|          24|          50|           4|      -14.5| -0.5|   -0.5|       0.0|         0.0|                 -0.3|       -18.3|                -2.5|        0.0|\n",
      "|       2| 2021-10-01 00:45:44|  2021-10-01 00:50:14|            1.0|         1.45|       1.0|                 N|          48|          68|           1|        6.0|  0.5|    0.5|      2.45|         0.0|                  0.3|       12.25|                 2.5|        0.0|\n",
      "|       2| 2021-10-01 00:04:13|  2021-10-01 00:17:44|            1.0|         6.12|       1.0|                 N|         132|         124|           2|       19.0|  0.5|    0.5|       0.0|         0.0|                  0.3|        20.3|                 0.0|        0.0|\n",
      "|       2| 2021-10-01 00:08:29|  2021-10-01 00:11:54|            1.0|         1.33|       1.0|                 N|         162|         141|           2|        5.5|  0.5|    0.5|       0.0|         0.0|                  0.3|         9.3|                 2.5|        0.0|\n",
      "|       2| 2021-10-01 00:11:30|  2021-10-01 00:18:55|            4.0|         1.47|       1.0|                 N|          90|         249|           1|        7.0|  0.5|    0.5|      2.16|         0.0|                  0.3|       12.96|                 2.5|        0.0|\n",
      "+--------+--------------------+---------------------+---------------+-------------+----------+------------------+------------+------------+------------+-----------+-----+-------+----------+------------+---------------------+------------+--------------------+-----------+\n",
      "only showing top 5 rows\n",
      "\n"
     ]
    }
   ],
   "source": [
    "combined_df.show(5)"
   ]
  },
  {
   "cell_type": "markdown",
   "metadata": {},
   "source": [
    "## Calling Function to RUN Jobs"
   ]
  },
  {
   "cell_type": "code",
   "execution_count": 8,
   "metadata": {},
   "outputs": [
    {
     "name": "stdout",
     "output_type": "stream",
     "text": [
      "+----+------------------+------------------+\n",
      "|hour|avg(trip_distance)|avg(trip_duration)|\n",
      "+----+------------------+------------------+\n",
      "|0   |5.697302468454763 |15.730267774016255|\n",
      "|1   |5.339389276880548 |15.850162623066096|\n",
      "|2   |5.281638347063696 |14.82795115797    |\n",
      "|3   |8.981665757846745 |15.549170610945112|\n",
      "|4   |45.895842964455724|16.76969686715944 |\n",
      "|5   |43.51459739253192 |16.754208948062846|\n",
      "|6   |28.825264044061754|16.470007003437665|\n",
      "|7   |14.787098091862468|16.430668381762306|\n",
      "|8   |12.428777984690617|15.92411902626665 |\n",
      "|9   |8.48698598152477  |15.937159524944068|\n",
      "|10  |6.890357112173898 |15.968707707679075|\n",
      "|11  |7.591890247088315 |15.990086114978126|\n",
      "|12  |5.918490297216475 |16.550210286584242|\n",
      "|13  |6.369747729357942 |16.92855739941454 |\n",
      "|14  |5.343977336571386 |18.008710551099977|\n",
      "|15  |5.5549453596293095|18.798311988582775|\n",
      "|16  |5.726637253255657 |18.979807123045916|\n",
      "|17  |4.738831453140698 |17.867833479002556|\n",
      "|18  |3.8434327806086697|16.217714356261908|\n",
      "|19  |4.47367293805317  |15.19140456476558 |\n",
      "|20  |4.224069941229619 |15.010945933820851|\n",
      "|21  |5.450885859848826 |15.10952508081002 |\n",
      "|22  |5.342717304933334 |15.42700062288953 |\n",
      "|23  |5.289431262991325 |15.553266705082578|\n",
      "+----+------------------+------------------+\n",
      "\n",
      "+-----------+------------------+------------------+\n",
      "|day_of_week|avg(trip_distance)|avg(trip_duration)|\n",
      "+-----------+------------------+------------------+\n",
      "|1          |6.88743198402343  |16.245224786965196|\n",
      "|2          |7.124818609342453 |16.0233231891367  |\n",
      "|3          |7.222616940351249 |16.297383053723998|\n",
      "|4          |6.525891146376552 |16.604710888209578|\n",
      "|5          |6.803646162151218 |17.34929070746737 |\n",
      "|6          |7.143910394371231 |17.26199565428015 |\n",
      "|7          |6.773431535944266 |16.061015214483795|\n",
      "+-----------+------------------+------------------+\n",
      "\n",
      "+-----+------------------+------------------+\n",
      "|month|avg(trip_distance)|avg(trip_duration)|\n",
      "+-----+------------------+------------------+\n",
      "|1    |4.631774469271623 |13.961936996777638|\n",
      "|2    |4.282057569397418 |14.886453315992359|\n",
      "|3    |4.384334910886684 |14.730989737678744|\n",
      "|4    |7.385712840178037 |15.510014296136394|\n",
      "|5    |8.422930393813367 |15.906733275470437|\n",
      "|6    |6.93383483334298  |16.826477798822353|\n",
      "|7    |7.785664819232962 |16.624542030504628|\n",
      "|8    |7.6696761504586695|16.572784095643385|\n",
      "|9    |6.583626690789043 |17.50014227893961 |\n",
      "|10   |7.112613760417616 |17.420198691972608|\n",
      "|11   |7.436345802942033 |17.834799510802338|\n",
      "|12   |7.2008844577166755|17.45009889873658 |\n",
      "+-----+------------------+------------------+\n",
      "\n",
      "+------------+-------+\n",
      "|PULocationID|count  |\n",
      "+------------+-------+\n",
      "|237         |1553554|\n",
      "|236         |1424614|\n",
      "|161         |1091329|\n",
      "|132         |1025063|\n",
      "|186         |1019650|\n",
      "|142         |989927 |\n",
      "|170         |967766 |\n",
      "|162         |954917 |\n",
      "|239         |932473 |\n",
      "|141         |909845 |\n",
      "+------------+-------+\n",
      "only showing top 10 rows\n",
      "\n",
      "+------------+-------+\n",
      "|DOLocationID|count  |\n",
      "+------------+-------+\n",
      "|236         |1434919|\n",
      "|237         |1356518|\n",
      "|161         |1001077|\n",
      "|170         |920433 |\n",
      "|141         |902052 |\n",
      "|239         |886837 |\n",
      "|142         |854324 |\n",
      "|48          |782803 |\n",
      "|238         |779046 |\n",
      "|162         |772823 |\n",
      "+------------+-------+\n",
      "only showing top 10 rows\n",
      "\n"
     ]
    }
   ],
   "source": [
    "#  trip analysis job\n",
    "analyze_trip(combined_df)\n"
   ]
  },
  {
   "cell_type": "code",
   "execution_count": 9,
   "metadata": {},
   "outputs": [
    {
     "name": "stdout",
     "output_type": "stream",
     "text": [
      "+------------+-------------------+\n",
      "|PULocationID|avg(tip_percentage)|\n",
      "+------------+-------------------+\n",
      "|252         |1989.087674627638  |\n",
      "|1           |859.4629608102979  |\n",
      "|130         |122.02896363647231 |\n",
      "|62          |99.15102255958752  |\n",
      "|176         |97.12963522296104  |\n",
      "|265         |83.61822178057028  |\n",
      "|251         |80.10595263395518  |\n",
      "|214         |77.50651795756703  |\n",
      "|243         |52.63534475327919  |\n",
      "|92          |47.99232259803468  |\n",
      "+------------+-------------------+\n",
      "only showing top 10 rows\n",
      "\n",
      "Correlation between PULocationID and avg(tip_percentage): 0.05990458014090846\n",
      "Correlation between trip distance and tip amount: 0.0016487551576155291\n",
      "+----+------------------+\n",
      "|hour|avg(tip_amount)   |\n",
      "+----+------------------+\n",
      "|0   |2.583079471352376 |\n",
      "|1   |2.4375389658809925|\n",
      "|2   |2.3408283832060093|\n",
      "|3   |2.3831183065413164|\n",
      "|4   |2.6947065546774502|\n",
      "|5   |2.878895230713873 |\n",
      "|6   |2.4898286533567093|\n",
      "|7   |2.295978216787362 |\n",
      "|8   |2.250740438488405 |\n",
      "|9   |2.17063126231812  |\n",
      "|10  |2.1127790792024035|\n",
      "|11  |2.1214035187531657|\n",
      "|12  |2.1649582932638594|\n",
      "|13  |2.19782040537623  |\n",
      "|14  |2.264540178360099 |\n",
      "|15  |2.326712460858813 |\n",
      "|16  |2.4534489572913727|\n",
      "|17  |2.435427894635482 |\n",
      "|18  |2.388541479705866 |\n",
      "|19  |2.3693319152925105|\n",
      "|20  |2.4010282507963785|\n",
      "|21  |2.503374084876051 |\n",
      "|22  |2.5913331085311557|\n",
      "|23  |2.5983358158724266|\n",
      "+----+------------------+\n",
      "\n",
      "+-----------+------------------+\n",
      "|day_of_week|avg(tip_amount)   |\n",
      "+-----------+------------------+\n",
      "|1          |2.4820658610753425|\n",
      "|2          |2.331722087104265 |\n",
      "|3          |2.277526969827809 |\n",
      "|4          |2.3011234998170833|\n",
      "|5          |2.3668346014952655|\n",
      "|6          |2.3545071417337624|\n",
      "|7          |2.303158334445039 |\n",
      "+-----------+------------------+\n",
      "\n",
      "+-----+------------------+\n",
      "|month|avg(tip_amount)   |\n",
      "+-----+------------------+\n",
      "|1    |1.917962203030099 |\n",
      "|2    |1.906566751792156 |\n",
      "|3    |1.944651777305828 |\n",
      "|4    |2.0627626316313212|\n",
      "|5    |2.2032971477529633|\n",
      "|6    |2.3178044346842253|\n",
      "|7    |2.35527261665276  |\n",
      "|8    |2.3869981935234885|\n",
      "|9    |2.4990366319484845|\n",
      "|10   |2.5262935829084703|\n",
      "|11   |2.59271767633758  |\n",
      "|12   |2.591681014086844 |\n",
      "+-----+------------------+\n",
      "\n",
      "+------------+---------------------+\n",
      "|payment_type|avg(tip_amount)      |\n",
      "+------------+---------------------+\n",
      "|1           |3.0755510306731497   |\n",
      "|0           |2.1700068168215974   |\n",
      "|4           |0.022958282745690756 |\n",
      "|2           |4.1085907046476767E-4|\n",
      "|5           |0.0                  |\n",
      "|3           |-0.01167058060330846 |\n",
      "+------------+---------------------+\n",
      "\n"
     ]
    }
   ],
   "source": [
    "# Perform tip analysis\n",
    "analyze_tips(combined_df)\n"
   ]
  },
  {
   "cell_type": "markdown",
   "metadata": {},
   "source": [
    "certain locations tend to tip more than others. The highest average tip percentages are observed in specific locations like PULocationID 252 and 1, suggesting significant variations in tipping behavior based on pickup location."
   ]
  },
  {
   "cell_type": "markdown",
   "metadata": {},
   "source": [
    "by applying pearson test : The correlation coefficient between trip distance and tip amount is approximately 0.0016. This indicates a very weak correlation, implying that the distance of the trip does not significantly influence the tip amount. also there is low Correlation between PULocationID and avg(tip_percentage): 0.059"
   ]
  },
  {
   "cell_type": "code",
   "execution_count": 10,
   "metadata": {},
   "outputs": [
    {
     "name": "stdout",
     "output_type": "stream",
     "text": [
      "+------------+------------+------------------+\n",
      "|PULocationID|DOLocationID|avg(fare_amount)  |\n",
      "+------------+------------+------------------+\n",
      "|154         |28          |1164.0            |\n",
      "|234         |189         |843.4665424430642 |\n",
      "|1           |247         |420.0             |\n",
      "|83          |136         |378.5             |\n",
      "|5           |74          |306.0             |\n",
      "|54          |265         |275.5             |\n",
      "|29          |264         |213.75227272727273|\n",
      "|2           |265         |200.25            |\n",
      "|6           |265         |192.25            |\n",
      "|123         |265         |177.35            |\n",
      "|235         |115         |170.0             |\n",
      "|253         |208         |160.0             |\n",
      "|221         |265         |160.0             |\n",
      "|112         |109         |155.0             |\n",
      "|204         |265         |152.375           |\n",
      "|44          |138         |151.5             |\n",
      "|118         |265         |151.25            |\n",
      "|55          |1           |150.0             |\n",
      "|10          |1           |148.21428571428572|\n",
      "|221         |1           |148.0             |\n",
      "+------------+------------+------------------+\n",
      "only showing top 20 rows\n",
      "\n",
      "+---------------+------------------+\n",
      "|passenger_count|avg(fare_amount)  |\n",
      "+---------------+------------------+\n",
      "|9.0            |61.35             |\n",
      "|7.0            |52.91679487179486 |\n",
      "|8.0            |49.14408163265306 |\n",
      "|4.0            |14.284687986716264|\n",
      "|2.0            |13.77639929394152 |\n",
      "|3.0            |13.555663818461726|\n",
      "|1.0            |13.532826147315012|\n",
      "|6.0            |12.75109443706296 |\n",
      "|5.0            |12.666400646383599|\n",
      "|0.0            |12.251760226150818|\n",
      "|96.0           |11.5              |\n",
      "|112.0          |9.0               |\n",
      "+---------------+------------------+\n",
      "\n",
      "Correlation between fare amount and trip distance: 0.0008730862657093959\n"
     ]
    }
   ],
   "source": [
    "# Perform fare analysis\n",
    "analyze_fares(combined_df)\n"
   ]
  },
  {
   "cell_type": "markdown",
   "metadata": {},
   "source": [
    "* The average fare between various pickup and dropoff locations varies significantly, with some routes, like from 192 to 44, having notably high fares.\n",
    "* Average fares for different passenger counts show little variation, though larger groups tend to have higher fares.\n",
    "* The correlation between fare amount and trip distance is very weak (0.000873), indicating other factors like traffic or fixed pricing zones play a significant role in fare determination.\n",
    "* Further analysis is recommended for high-fare routes and additional factors affecting fares."
   ]
  },
  {
   "cell_type": "code",
   "execution_count": 11,
   "metadata": {},
   "outputs": [
    {
     "name": "stdout",
     "output_type": "stream",
     "text": [
      "+-------------------+------------------+\n",
      "|trip_duration_hours|     avg_speed_mph|\n",
      "+-------------------+------------------+\n",
      "| 0.1963888888888889| 20.62234794908062|\n",
      "|              0.075|19.333333333333332|\n",
      "|0.22527777777777777|27.166461159062887|\n",
      "|0.05694444444444444|23.356097560975613|\n",
      "|0.12361111111111112|11.892134831460673|\n",
      "+-------------------+------------------+\n",
      "only showing top 5 rows\n",
      "\n",
      "+------------+------------+------------------+\n",
      "|PULocationID|DOLocationID|avg_speed         |\n",
      "+------------+------------+------------------+\n",
      "|53          |70          |363264.56557343114|\n",
      "|131         |185         |273688.16         |\n",
      "|206         |206         |200809.50217849136|\n",
      "|26          |56          |185347.1707317073 |\n",
      "|128         |205         |161908.14193548384|\n",
      "|159         |228         |143596.55666307133|\n",
      "|127         |182         |136132.36834431795|\n",
      "|240         |18          |127313.17426499365|\n",
      "|212         |62          |124956.90172891079|\n",
      "|59          |18          |112381.24201331243|\n",
      "+------------+------------+------------------+\n",
      "only showing top 10 rows\n",
      "\n",
      "+----+------------------+\n",
      "|hour|avg_speed         |\n",
      "+----+------------------+\n",
      "|0   |46.88437437775357 |\n",
      "|1   |26.833273291463907|\n",
      "|2   |23.1922144457512  |\n",
      "|3   |41.96111382491338 |\n",
      "|4   |232.12569356568102|\n",
      "|5   |226.86394992109575|\n",
      "|6   |91.67006271242369 |\n",
      "|7   |50.47408119929357 |\n",
      "|8   |45.877245459943126|\n",
      "|9   |38.327076839901316|\n",
      "|10  |31.780017127468454|\n",
      "|11  |28.313559162028813|\n",
      "|12  |24.777384306682777|\n",
      "|13  |26.10985589849582 |\n",
      "|14  |21.62039654498295 |\n",
      "|15  |19.298768450676462|\n",
      "|16  |21.27746017576085 |\n",
      "|17  |21.689557061369683|\n",
      "|18  |16.66808456640477 |\n",
      "|19  |19.397744565708983|\n",
      "|20  |19.172042301883693|\n",
      "|21  |25.22954029346278 |\n",
      "|22  |24.808367341012975|\n",
      "|23  |29.839807765175635|\n",
      "+----+------------------+\n",
      "\n",
      "+-----------+------------------+\n",
      "|day_of_week|avg_speed         |\n",
      "+-----------+------------------+\n",
      "|1          |29.421953959258193|\n",
      "|2          |29.037002136494042|\n",
      "|3          |30.49721670647368 |\n",
      "|4          |26.111219310025803|\n",
      "|5          |28.374776599154327|\n",
      "|6          |30.4170412829859  |\n",
      "|7          |31.315084309522053|\n",
      "+-----------+------------------+\n",
      "\n",
      "+------------+------------------+\n",
      "|week_of_year|avg_speed         |\n",
      "+------------+------------------+\n",
      "|1           |23.482391259216733|\n",
      "|2           |23.44226900178827 |\n",
      "|3           |19.23546265993209 |\n",
      "|4           |25.253885349325788|\n",
      "|5           |21.14492799004547 |\n",
      "|6           |20.428040800447906|\n",
      "|7           |20.9814697017397  |\n",
      "|8           |21.475718580440667|\n",
      "|9           |26.19909362924911 |\n",
      "|10          |21.747426460521062|\n",
      "|11          |20.01039895233186 |\n",
      "|12          |18.33930020329898 |\n",
      "|13          |21.61065263122285 |\n",
      "|14          |25.264857517795576|\n",
      "|15          |41.75972264655815 |\n",
      "|16          |38.09981553091357 |\n",
      "|17          |38.17738161891071 |\n",
      "|18          |47.16613137891376 |\n",
      "|19          |38.211356544078605|\n",
      "|20          |25.98531202020809 |\n",
      "|21          |30.823593687836652|\n",
      "|22          |27.529189345834453|\n",
      "|23          |25.284353503303727|\n",
      "|24          |48.65575909369167 |\n",
      "|25          |33.2418353962803  |\n",
      "|26          |31.353411979993766|\n",
      "|27          |30.321400292037264|\n",
      "|28          |24.66578590890028 |\n",
      "|29          |29.739405063394997|\n",
      "|30          |28.7000307183864  |\n",
      "|31          |27.118216377987526|\n",
      "|32          |45.63574057691055 |\n",
      "|33          |32.44874639883107 |\n",
      "|34          |28.938491518061433|\n",
      "|35          |29.748142167132386|\n",
      "|36          |25.00044233736436 |\n",
      "|37          |36.621803579540874|\n",
      "|38          |23.639233440289868|\n",
      "|39          |24.37107875789943 |\n",
      "|40          |20.855484806589963|\n",
      "|41          |25.14934336180136 |\n",
      "|42          |31.39146879269873 |\n",
      "|43          |37.4070133519448  |\n",
      "|44          |21.21166389003407 |\n",
      "|45          |22.811720991143844|\n",
      "|46          |39.79943289218881 |\n",
      "|47          |40.10882883744368 |\n",
      "|48          |26.38270451280191 |\n",
      "|49          |24.81786066211589 |\n",
      "|50          |22.72481458674318 |\n",
      "|51          |32.958537304593456|\n",
      "|52          |26.375688240034307|\n",
      "+------------+------------------+\n",
      "only showing top 52 rows\n",
      "\n"
     ]
    }
   ],
   "source": [
    "analyze_traffic(combined_df)"
   ]
  },
  {
   "cell_type": "code",
   "execution_count": 16,
   "metadata": {},
   "outputs": [
    {
     "name": "stdout",
     "output_type": "stream",
     "text": [
      "+--------+--------------------+---------------------+---------------+-------------+----------+------------------+------------+------------+------------+-----------+-----+-------+----------+------------+---------------------+------------+--------------------+-----------+\n",
      "|VendorID|tpep_pickup_datetime|tpep_dropoff_datetime|passenger_count|trip_distance|RatecodeID|store_and_fwd_flag|PULocationID|DOLocationID|payment_type|fare_amount|extra|mta_tax|tip_amount|tolls_amount|improvement_surcharge|total_amount|congestion_surcharge|airport_fee|\n",
      "+--------+--------------------+---------------------+---------------+-------------+----------+------------------+------------+------------+------------+-----------+-----+-------+----------+------------+---------------------+------------+--------------------+-----------+\n",
      "|       2| 2021-10-01 00:50:24|  2021-10-01 01:02:11|            1.0|         4.05|       1.0|                 N|          24|          50|           4|      -14.5| -0.5|   -0.5|       0.0|         0.0|                 -0.3|       -18.3|                -2.5|        0.0|\n",
      "|       2| 2021-10-01 00:45:44|  2021-10-01 00:50:14|            1.0|         1.45|       1.0|                 N|          48|          68|           1|        6.0|  0.5|    0.5|      2.45|         0.0|                  0.3|       12.25|                 2.5|        0.0|\n",
      "|       2| 2021-10-01 00:04:13|  2021-10-01 00:17:44|            1.0|         6.12|       1.0|                 N|         132|         124|           2|       19.0|  0.5|    0.5|       0.0|         0.0|                  0.3|        20.3|                 0.0|        0.0|\n",
      "|       2| 2021-10-01 00:08:29|  2021-10-01 00:11:54|            1.0|         1.33|       1.0|                 N|         162|         141|           2|        5.5|  0.5|    0.5|       0.0|         0.0|                  0.3|         9.3|                 2.5|        0.0|\n",
      "|       2| 2021-10-01 00:11:30|  2021-10-01 00:18:55|            4.0|         1.47|       1.0|                 N|          90|         249|           1|        7.0|  0.5|    0.5|      2.16|         0.0|                  0.3|       12.96|                 2.5|        0.0|\n",
      "+--------+--------------------+---------------------+---------------+-------------+----------+------------------+------------+------------+------------+-----------+-----+-------+----------+------------+---------------------+------------+--------------------+-----------+\n",
      "only showing top 5 rows\n",
      "\n"
     ]
    }
   ],
   "source": [
    "combined_df.show(5)"
   ]
  },
  {
   "cell_type": "code",
   "execution_count": 13,
   "metadata": {},
   "outputs": [],
   "source": [
    "# Perform demand prediction\n",
    "#predictions = demand_prediction(combined_df)\n"
   ]
  },
  {
   "cell_type": "markdown",
   "metadata": {},
   "source": [
    "we did'nt run the model on the entire dataset(+30m rows) cuz it take a lot of time +10 min and didnt finish, so we decide to do sampling\n",
    "we took a sample of 1% of the data set and run the model on it"
   ]
  },
  {
   "cell_type": "code",
   "execution_count": 14,
   "metadata": {},
   "outputs": [],
   "source": [
    "# Take a 1% sample of the data for demand prediction\n",
    "sampled_df = combined_df.sample(fraction=0.01)\n"
   ]
  },
  {
   "cell_type": "code",
   "execution_count": 15,
   "metadata": {},
   "outputs": [
    {
     "name": "stdout",
     "output_type": "stream",
     "text": [
      "R2: 0.38202320428784275, RMSE: 15.816717750828882\n",
      "+---------------+-----+------------------+\n",
      "|       features|label|        prediction|\n",
      "+---------------+-----+------------------+\n",
      "|[23.0,4.0,12.0]|    1| 77.97679508046733|\n",
      "|  [0.0,5.0,1.0]|    1|13.925180822234791|\n",
      "|  [0.0,6.0,1.0]|    1|15.187972547831363|\n",
      "|  [0.0,6.0,1.0]|    2|15.187972547831363|\n",
      "|  [0.0,6.0,1.0]|    3|15.187972547831363|\n",
      "|  [0.0,6.0,1.0]|    4|15.187972547831363|\n",
      "|  [0.0,6.0,1.0]|    5|15.187972547831363|\n",
      "|  [0.0,6.0,1.0]|    6|15.187972547831363|\n",
      "|  [0.0,6.0,1.0]|    7|15.187972547831363|\n",
      "|  [0.0,6.0,1.0]|    8|15.187972547831363|\n",
      "+---------------+-----+------------------+\n",
      "only showing top 10 rows\n",
      "\n"
     ]
    },
    {
     "data": {
      "text/plain": [
       "DataFrame[features: vector, label: bigint, prediction: double]"
      ]
     },
     "execution_count": 15,
     "metadata": {},
     "output_type": "execute_result"
    }
   ],
   "source": [
    "demand_prediction(sampled_df)"
   ]
  },
  {
   "cell_type": "markdown",
   "metadata": {},
   "source": []
  }
 ],
 "metadata": {
  "kernelspec": {
   "display_name": "Python 3",
   "language": "python",
   "name": "python3"
  },
  "language_info": {
   "codemirror_mode": {
    "name": "ipython",
    "version": 3
   },
   "file_extension": ".py",
   "mimetype": "text/x-python",
   "name": "python",
   "nbconvert_exporter": "python",
   "pygments_lexer": "ipython3",
   "version": "3.12.2"
  }
 },
 "nbformat": 4,
 "nbformat_minor": 2
}
